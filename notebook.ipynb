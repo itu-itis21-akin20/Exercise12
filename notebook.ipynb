{
 "cells": [
  {
   "cell_type": "markdown",
   "id": "d6fc11ab",
   "metadata": {},
   "source": [
    "# Data Science Tools and Ecosystem"
   ]
  },
  {
   "cell_type": "markdown",
   "id": "99e38e31",
   "metadata": {},
   "source": [
    "## Author\n",
    "Nurselen Akın"
   ]
  },
  {
   "cell_type": "markdown",
   "id": "d06558a5",
   "metadata": {},
   "source": [
    "<b>Objectives:<b>\n",
    " *  List popular languages for Data Science\n",
    " *  List commonly used libraries used by Data Scientists\n",
    " * List commonly used tools used by Data Scientists"
   ]
  },
  {
   "cell_type": "markdown",
   "id": "72b68cd8",
   "metadata": {},
   "source": [
    "In this notebook, Data Science Tools and Ecosystem are summarized."
   ]
  },
  {
   "cell_type": "markdown",
   "id": "882068e7",
   "metadata": {},
   "source": [
    "Some of the popular languages that Data Scientists use are:\n",
    "\n",
    "<ol>\n",
    "  <li>Python</li>\n",
    "  <li>R</li>\n",
    "    <li>SQL</li>\n",
    "    <li>Java</li>\n",
    "</ol>"
   ]
  },
  {
   "cell_type": "markdown",
   "id": "eb6e1a47",
   "metadata": {},
   "source": [
    "Some of the commonly used libraries used by Data Scientists include:\n",
    "    \n",
    "<ol>\n",
    "        <li>Numpy</li>\n",
    "        <li>Pandas</li>\n",
    "        <li>Keras</li>\n",
    "        <li>TensorFlow</li>\n",
    "        <li>PyTorch</li>\n",
    "</ol>"
   ]
  },
  {
   "cell_type": "markdown",
   "id": "4c7bd2be",
   "metadata": {},
   "source": [
    "<table ><tr><th>Data Science Tools<th><tr><tr><td>RStudio<td><tr><tr><td>Apache Spark<td><tr><tr><td>Apache Hadoop<td><tr><table>"
   ]
  },
  {
   "cell_type": "markdown",
   "id": "14cc0189",
   "metadata": {},
   "source": [
    "### Below are a few examples of evaluating arithmetic expressions in Python"
   ]
  },
  {
   "cell_type": "code",
   "execution_count": 12,
   "id": "5bfc91e0",
   "metadata": {},
   "outputs": [
    {
     "data": {
      "text/plain": [
       "17"
      ]
     },
     "execution_count": 12,
     "metadata": {},
     "output_type": "execute_result"
    }
   ],
   "source": [
    "#This a simple arithmetic expression to mutiply then add integers\n",
    "(3*4)+5"
   ]
  },
  {
   "cell_type": "code",
   "execution_count": 13,
   "id": "b07a0f1f",
   "metadata": {},
   "outputs": [
    {
     "data": {
      "text/plain": [
       "3.3333333333333335"
      ]
     },
     "execution_count": 13,
     "metadata": {},
     "output_type": "execute_result"
    }
   ],
   "source": [
    " #This will convert 200 minutes to hours by diving by 60\n",
    "200/60"
   ]
  }
 ],
 "metadata": {
  "kernelspec": {
   "display_name": "Python 3 (ipykernel)",
   "language": "python",
   "name": "python3"
  },
  "language_info": {
   "codemirror_mode": {
    "name": "ipython",
    "version": 3
   },
   "file_extension": ".py",
   "mimetype": "text/x-python",
   "name": "python",
   "nbconvert_exporter": "python",
   "pygments_lexer": "ipython3",
   "version": "3.11.5"
  }
 },
 "nbformat": 4,
 "nbformat_minor": 5
}
